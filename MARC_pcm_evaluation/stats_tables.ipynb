{
 "cells": [
  {
   "cell_type": "markdown",
   "metadata": {},
   "source": [
    "Create a few tables of summary statistics from the sampling experiments."
   ]
  },
  {
   "cell_type": "code",
   "execution_count": 9,
   "metadata": {
    "collapsed": false
   },
   "outputs": [
    {
     "name": "stdout",
     "output_type": "stream",
     "text": [
      "The autoreload extension is already loaded. To reload it, use:\n",
      "  %reload_ext autoreload\n"
     ]
    }
   ],
   "source": [
    "%load_ext autoreload\n",
    "%autoreload 2"
   ]
  },
  {
   "cell_type": "code",
   "execution_count": 10,
   "metadata": {
    "collapsed": true
   },
   "outputs": [],
   "source": [
    "import os, pickle\n",
    "import numpy as np\n",
    "import pandas as pd"
   ]
  },
  {
   "cell_type": "markdown",
   "metadata": {},
   "source": [
    "---"
   ]
  },
  {
   "cell_type": "code",
   "execution_count": 12,
   "metadata": {
    "collapsed": false
   },
   "outputs": [
    {
     "name": "stdout",
     "output_type": "stream",
     "text": [
      "MARC_gCCN Smax normal stat    nrmse     r2     mre  mre_std\n",
      "scheme                               \n",
      "gCCN_3  0.836  0.278  15.055   58.431\n",
      "gCCN_4  0.772  0.384   6.527   36.897\n",
      "ARG     0.859  0.238 -15.636   41.281\n",
      "MBN     0.947  0.075  55.501   92.571\n",
      "MARC_gCCN Smax log10 stat    nrmse     r2    mre  mre_std\n",
      "scheme                              \n",
      "gCCN_3  0.083  0.945  0.587   22.366\n",
      "gCCN_4  0.055  0.976  0.363   19.892\n",
      "ARG     0.093  0.931  8.539   28.641\n",
      "MBN     0.166  0.781 -9.579   17.500\n",
      "MARC_gCCN Nderiv_Neq normal stat    nrmse     r2     mre  mre_std\n",
      "scheme                               \n",
      "gCCN_3  0.337  0.873  15.137   79.250\n",
      "gCCN_4  0.226  0.943   6.900   58.189\n",
      "ARG     0.145  0.976  -3.923   47.479\n",
      "MBN     0.309  0.893  33.299  111.581\n",
      "MARC_gCCN Nderiv_Neq log10 stat    nrmse     r2    mre  mre_std\n",
      "scheme                              \n",
      "gCCN_3  0.193  0.910  0.354   59.460\n",
      "gCCN_4  0.168  0.932 -0.234   48.882\n",
      "ARG     0.208  0.896 -3.800   64.054\n",
      "MBN     0.322  0.751  5.652   91.818\n",
      "MARC_main Smax normal stat    nrmse     r2     mre  mre_std\n",
      "scheme                               \n",
      "main_3  0.873  0.218   7.952   54.189\n",
      "main_4  0.735  0.446   4.939   37.082\n",
      "ARG     0.990 -0.006  24.670   73.904\n",
      "MBN     0.811  0.326  59.264  104.091\n",
      "MARC_main Smax log10 stat    nrmse     r2     mre  mre_std\n",
      "scheme                               \n",
      "main_3  0.086  0.955   0.593   33.083\n",
      "main_4  0.057  0.980  -0.600   30.278\n",
      "ARG     0.102  0.937  -3.263   40.608\n",
      "MBN     0.179  0.806 -11.790   34.277\n",
      "MARC_main Nderiv_Neq normal stat    nrmse     r2     mre  mre_std\n",
      "scheme                               \n",
      "main_3  0.305  0.896   9.204   81.558\n",
      "main_4  0.192  0.959   8.895   66.809\n",
      "ARG     0.147  0.976  25.390   80.354\n",
      "MBN     0.296  0.902  44.947  127.351\n",
      "MARC_main Nderiv_Neq log10 stat    nrmse     r2    mre  mre_std\n",
      "scheme                              \n",
      "main_3  0.217  0.928 -0.368   89.762\n",
      "main_4  0.150  0.965  1.698   73.204\n",
      "ARG     0.242  0.910  2.033   96.207\n",
      "MBN     0.350  0.813  0.737  110.486\n"
     ]
    }
   ],
   "source": [
    "from IPython.display import Latex\n",
    "import utils\n",
    "from itertools import product\n",
    "\n",
    "pd.set_option('display.precision', 3)\n",
    "\n",
    "exp_names = ['MARC_gCCN', 'MARC_main']\n",
    "results = ['Smax', 'Nderiv_Neq']\n",
    "scalings = ['normal', 'log10']\n",
    "\n",
    "for exp_name, result, scaling in product(exp_names, results, scalings):\n",
    "\n",
    "    stats = utils.get_stats(exp_name, result=result, scaling=scaling)\n",
    "    stats = stats[['nrmse', 'r2', 'mre', 'mre_std']]\n",
    "    print(exp_name, result, scaling, stats)\n",
    "\n",
    "    # Process for easy re-use later\n",
    "    exp_root = exp_name.replace(\"MARC_\", \"\")\n",
    "    stats = stats.rename(index=lambda x: x.replace(exp_root+\"_\", \"PCM order \"),\n",
    "                         columns=lambda x: str.upper(x))\n",
    "    stats = stats.rename(columns={'MRE_STD': \"MRE std dev\",\n",
    "                                  'R2': '$r^2$'})\n",
    "    del stats.index.name\n",
    "    del stats.columns.name\n",
    "\n",
    "    out_fn = \"{}.{}.{}.stats_summary\".format(exp_name, result, scaling)\n",
    "    with open(\"figs/\"+out_fn+\".ascii\", 'w') as f:\n",
    "        print(stats.to_string(), file=f)\n",
    "    with open(\"figs/\"+out_fn+\".latex\", 'w') as f:\n",
    "        print(stats.to_latex(column_format=\"lcccc\", escape=False), \n",
    "              file=f)"
   ]
  }
 ],
 "metadata": {
  "kernelspec": {
   "display_name": "Python 3",
   "language": "python",
   "name": "python3"
  },
  "language_info": {
   "codemirror_mode": {
    "name": "ipython",
    "version": 3
   },
   "file_extension": ".py",
   "mimetype": "text/x-python",
   "name": "python",
   "nbconvert_exporter": "python",
   "pygments_lexer": "ipython3",
   "version": "3.4.4"
  }
 },
 "nbformat": 4,
 "nbformat_minor": 0
}
