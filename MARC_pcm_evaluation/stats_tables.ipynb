{
 "cells": [
  {
   "cell_type": "markdown",
   "metadata": {},
   "source": [
    "Create a few tables of summary statistics from the sampling experiments."
   ]
  },
  {
   "cell_type": "code",
   "execution_count": null,
   "metadata": {
    "collapsed": true
   },
   "outputs": [],
   "source": [
    "%load_ext autoreload\n",
    "%autoreload 2"
   ]
  },
  {
   "cell_type": "code",
   "execution_count": 1,
   "metadata": {
    "collapsed": true
   },
   "outputs": [],
   "source": [
    "import os, pickle\n",
    "import numpy as np\n",
    "import pandas as pd"
   ]
  },
  {
   "cell_type": "markdown",
   "metadata": {},
   "source": [
    "---"
   ]
  },
  {
   "cell_type": "code",
   "execution_count": 52,
   "metadata": {
    "collapsed": false
   },
   "outputs": [],
   "source": [
    "from IPython.display import Latex\n",
    "import plot_utils as pu\n",
    "from itertools import product\n",
    "\n",
    "pd.set_option('display.precision', 3)\n",
    "\n",
    "exp_names = ['MARC_gCCN', 'MARC_main']\n",
    "results = ['Smax', 'Nderiv_Neq']\n",
    "scalings = ['normal', 'log10']\n",
    "\n",
    "for exp_name, result, scaling in product(exp_names, results, scalings):\n",
    "\n",
    "    stats = pu.get_stats(exp_name, result=result, scaling=scaling)\n",
    "    stats = stats[['nrmse', 'r2', 'mre', 'mre_std']]\n",
    "\n",
    "    # Process for easy re-use later\n",
    "    exp_root = exp_name.replace(\"MARC_\", \"\")\n",
    "    stats = stats.rename(index=lambda x: x.replace(exp_root+\"_\", \"PCM order \"),\n",
    "                         columns=lambda x: str.upper(x))\n",
    "    stats = stats.rename(columns={'MRE_STD': \"MRE std dev\",\n",
    "                                  'R2': '$r^2$'})\n",
    "    del stats.index.name\n",
    "    del stats.columns.name\n",
    "\n",
    "    out_fn = \"{}.{}.{}.stats_summary\".format(exp_name, result, scaling)\n",
    "    with open(\"figs/\"+out_fn+\".ascii\", 'w') as f:\n",
    "        print(stats.to_string(), file=f)\n",
    "    with open(\"figs/\"+out_fn+\".latex\", 'w') as f:\n",
    "        print(stats.to_latex(column_format=\"lcccc\", escape=False), \n",
    "              file=f)"
   ]
  },
  {
   "cell_type": "markdown",
   "metadata": {},
   "source": [
    "Indicate we're done by touching a temp file"
   ]
  },
  {
   "cell_type": "code",
   "execution_count": null,
   "metadata": {
    "collapsed": true
   },
   "outputs": [],
   "source": [
    "%%bash\n",
    "date > stats_tables"
   ]
  }
 ],
 "metadata": {
  "kernelspec": {
   "display_name": "Python 3",
   "language": "python",
   "name": "python3"
  },
  "language_info": {
   "codemirror_mode": {
    "name": "ipython",
    "version": 3
   },
   "file_extension": ".py",
   "mimetype": "text/x-python",
   "name": "python",
   "nbconvert_exporter": "python",
   "pygments_lexer": "ipython3",
   "version": "3.4.3"
  }
 },
 "nbformat": 4,
 "nbformat_minor": 0
}
