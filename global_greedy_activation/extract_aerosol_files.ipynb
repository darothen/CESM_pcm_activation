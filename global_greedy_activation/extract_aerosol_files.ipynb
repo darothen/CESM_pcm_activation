{
 "cells": [
  {
   "cell_type": "markdown",
   "metadata": {},
   "source": [
    "### Extract MARC Aerosol Data\n",
    "\n",
    "Modified from `../aerosol_dists`, this will automate the extraction of the aerosol data for the greedy activation calculations: first, using NCO operators and the same pipeline as before, then using `xray` for post-processing down to the actual simulation parameter set."
   ]
  },
  {
   "cell_type": "code",
   "execution_count": 1,
   "metadata": {
    "collapsed": true
   },
   "outputs": [],
   "source": [
    "## Copy the ncap2 scripts from aerosol_dists/\n",
    "# YOU SHOULDN'T DO THIS ANYMORE - I FIXED A TYPO IN THE \n",
    "# COORD ORDER FOR 'P'\n",
    "#!cp ../aerosol_dists/*nco ."
   ]
  },
  {
   "cell_type": "markdown",
   "metadata": {},
   "source": [
    "---\n",
    "\n",
    "This is the shell script for automating the extraction\n",
    "\n",
    "**1) Configuration**"
   ]
  },
  {
   "cell_type": "code",
   "execution_count": 10,
   "metadata": {
    "collapsed": false
   },
   "outputs": [],
   "source": [
    "from subprocess import call\n",
    "import glob, os, shutil\n",
    "\n",
    "%run ../case_setup.py\n",
    "pwd = os.getcwd()\n",
    "\n",
    "#: Number of years to omit from beginning of model run\n",
    "year_start = 5\n",
    "\n",
    "#: Levels to extract\n",
    "lev_bnds = [23, 26]\n",
    "\n",
    "#: Latitude bounds\n",
    "lat_bnds = [-60, 60]\n",
    "\n",
    "#: Instant (h1) or averaged (h0)\n",
    "time_mean = \"instant\"\n",
    "time_str = \"h1\" if time_mean == \"instant\" else \"h0\"\n",
    "\n",
    "#: Save_dir\n",
    "save_dir = os.path.join(pwd, \"data\")\n",
    "\n",
    "#: Final file name\n",
    "fn_final_stem = \"%s.new_aerosols.nc\"\n",
    "\n",
    "aer_mode_names = [\n",
    "     \"NUC\", \"AIT\", \"ACC\", # sulfates\n",
    "     \"BC\", \"MBS\",  # black carbon\n",
    "     \"OC\", \"MOS\",  # organic carbon\n",
    "]\n",
    "number_vars =  [\"n%s\" % name for name in aer_mode_names]\n",
    "mass_vars = [\"m%s\" % name for name in aer_mode_names]\n",
    "size_vars = [\"mu%s\" % name for name in aer_mode_names]\n",
    "act_vars = [\"n%sACT\" % name for name in aer_mode_names]\n",
    "nc_vars = [\"T\", \"Q\",\"time_bnds\",\"WSUB\",\n",
    "           \"hyam\", \"hybm\", \"P0\", \"PS\",]\n",
    "ratios = [\"BIM\", \"OIM\"]\n",
    "single_mode_vars = [\"DST%02d\" % i for i in xrange(1, 5)] + \\\n",
    "                   [\"SSLT%02d\" % i for i in xrange(1, 5)]\n",
    "\n",
    "# List of all the vars necessary during processing\n",
    "varnames = \",\".join(nc_vars + number_vars + mass_vars + act_vars +\n",
    "                    single_mode_vars + [\"mOIM\", \"mBIM\"])\n",
    "\n",
    "# Final list of variable names\n",
    "final_varnames = \",\".join(nc_vars + \n",
    "                          [\"P\", \"RHO\", \"kappaMOS\", \"nAERACT\", ] + \n",
    "                          number_vars + size_vars + \n",
    "                          [\"n%s\" % s for s in single_mode_vars])"
   ]
  },
  {
   "cell_type": "markdown",
   "metadata": {},
   "source": [
    "**2) Extraction**"
   ]
  },
  {
   "cell_type": "code",
   "execution_count": 11,
   "metadata": {
    "collapsed": false
   },
   "outputs": [
    {
     "name": "stdout",
     "output_type": "stream",
     "text": [
      "env: OMP_NUM_THREADS=30\n",
      "using 30 threads\n",
      "pcm_min_smax F2000\n",
      "----------------------------------------\n",
      "   Extracting aerosol-related variables -> pcm_min_smax.aerosols.nc\n",
      "   Computing pressure and density for unit conversions\n",
      "   Converting units on aerosol size dist parameters\n",
      "   Additional post-processing steps\n",
      "      1) Total act\n",
      "   Extracting final subset\n",
      "   Renaming final file\n",
      "   ... done.\n",
      "pcm_comp F2000\n",
      "----------------------------------------\n",
      "   Extracting aerosol-related variables -> pcm_comp.aerosols.nc\n",
      "   Computing pressure and density for unit conversions\n",
      "   Converting units on aerosol size dist parameters\n",
      "   Additional post-processing steps\n",
      "      1) Total act\n",
      "   Extracting final subset\n",
      "   Renaming final file\n",
      "   ... done.\n",
      "arg_min_smax F2000\n",
      "----------------------------------------\n",
      "   Extracting aerosol-related variables -> arg_min_smax.aerosols.nc\n",
      "   Computing pressure and density for unit conversions\n",
      "   Converting units on aerosol size dist parameters\n",
      "   Additional post-processing steps\n",
      "      1) Total act\n",
      "   Extracting final subset\n",
      "   Renaming final file\n",
      "   ... done.\n",
      "arg_comp F2000\n",
      "----------------------------------------\n",
      "   Extracting aerosol-related variables -> arg_comp.aerosols.nc\n",
      "   Computing pressure and density for unit conversions\n",
      "   Converting units on aerosol size dist parameters\n",
      "   Additional post-processing steps\n",
      "      1) Total act\n",
      "   Extracting final subset\n",
      "   Renaming final file\n",
      "   ... done.\n",
      "nenes_comp F2000\n",
      "----------------------------------------\n",
      "   Extracting aerosol-related variables -> nenes_comp.aerosols.nc\n",
      "ncrcat: ERROR file /net/s001/volume1/storage01/darothen/CESM/MARC_AIE/F2000/nenes_comp/nenes_comp.cam2.h1.00[0,1][0,5-9]-*.nc neither exists locally nor matches remote filename patterns\n",
      "   Computing pressure and density for unit conversions\n",
      "ncap2: ERROR file /home/darothen/workspace/MARC_AIE/global_greedy_activation/data/nenes_comp_F2000_aerosol_monthly_lev-23-26_lat--60-60.nc neither exists locally nor matches remote filename patterns\n",
      "mv: cannot stat `/home/darothen/workspace/MARC_AIE/global_greedy_activation/data/nenes_comp_F2000_temp.nc': No such file or directory\n",
      "   Converting units on aerosol size dist parameters\n",
      "ncap2: ERROR file /home/darothen/workspace/MARC_AIE/global_greedy_activation/data/nenes_comp_F2000_aerosol_monthly_lev-23-26_lat--60-60.nc neither exists locally nor matches remote filename patterns\n",
      "mv: cannot stat `/home/darothen/workspace/MARC_AIE/global_greedy_activation/data/nenes_comp_F2000_temp.nc': No such file or directory\n",
      "   Additional post-processing steps\n",
      "      1) Total act\n",
      "ncap2: ERROR file /home/darothen/workspace/MARC_AIE/global_greedy_activation/data/nenes_comp_F2000_aerosol_monthly_lev-23-26_lat--60-60.nc neither exists locally nor matches remote filename patterns\n",
      "mv: cannot stat `/home/darothen/workspace/MARC_AIE/global_greedy_activation/data/nenes_comp_F2000_temp.nc': No such file or directory\n",
      "   Extracting final subset\n",
      "ncks: ERROR file /home/darothen/workspace/MARC_AIE/global_greedy_activation/data/nenes_comp_F2000_aerosol_monthly_lev-23-26_lat--60-60.nc neither exists locally nor matches remote filename patterns\n",
      "mv: cannot stat `/home/darothen/workspace/MARC_AIE/global_greedy_activation/data/nenes_comp_F2000_temp.nc': No such file or directory\n",
      "   Renaming final file\n",
      "mv: cannot stat `/home/darothen/workspace/MARC_AIE/global_greedy_activation/data/nenes_comp_F2000_aerosol_monthly_lev-23-26_lat--60-60.nc': No such file or directory\n",
      "   ... done.\n",
      "done with all cases\n",
      "\n"
     ]
    }
   ],
   "source": [
    "%env OMP_NUM_THREADS = 30 \n",
    "!echo using $OMP_NUM_THREADS threads\n",
    "\n",
    "aer = \"F2000\" # only PD emissions\n",
    "\n",
    "for act in CASES_ACT:\n",
    "    print act, aer\n",
    "    print \"--\"*20\n",
    "\n",
    "    fn_final = fn_final_stem % act\n",
    "    print \"   Extracting aerosol-related variables -> %s\" % fn_final\n",
    "\n",
    "    extr_str = \"-v %s \" % varnames\n",
    "    fn_final = fn_final_stem % act\n",
    "\n",
    "    suffix = \"\"\n",
    "    if lev_bnds: \n",
    "        lo, hi = lev_bnds\n",
    "        suffix += \"_lev-%d-%d\" % (lo, hi)\n",
    "        extr_str += \" -d lev,%d,%d\" % (lo, hi)\n",
    "    if lat_bnds:\n",
    "        lo, hi = lat_bnds\n",
    "        suffix += \"_lat-%d-%d\" % (lo, hi)\n",
    "        extr_str += \" -d lat,%3.1f,%3.1f\" % (lo, hi)\n",
    "            \n",
    "    fn_extr = \"%s_%s_aerosol_monthly%s.nc\" % (act, aer, suffix)\n",
    "    # note we use the instantaneous fields\n",
    "    !ncrcat -O {extr_str} {case_path(act,aer)}/{act}.cam2.{time_str}.00[0,1][0,{year_start}-9]-*.nc {save_dir}/{fn_extr} \n",
    "\n",
    "    print \"   Computing pressure and density for unit conversions\"\n",
    "    fn_temp = \"%s_%s_temp.nc\" % (act, aer)\n",
    "    !ncap2 -O -C -S {os.path.join(pwd, \"extract_thermo.nco\")} {save_dir}/{fn_extr} {save_dir}/{fn_temp} \n",
    "    !mv {save_dir}/{fn_temp} {save_dir}/{fn_extr}\n",
    "\n",
    "    print \"   Converting units on aerosol size dist parameters\"\n",
    "    !ncap2 -O -S {os.path.join(pwd, \"aero_calcs.nco\")} {save_dir}/{fn_extr} {save_dir}/{fn_temp} \n",
    "    !mv {save_dir}/{fn_temp} {save_dir}/{fn_extr}\n",
    "\n",
    "    print \"   Additional post-processing steps\"\n",
    "    print \"      1) Total act\"\n",
    "    !ncap2 -O -s {\"nAERACT=\"+\"+\".join(act_vars)} {save_dir}/{fn_extr} {save_dir}/{fn_temp} \n",
    "    !mv {save_dir}/{fn_temp} {save_dir}/{fn_extr}\n",
    "\n",
    "    print \"   Extracting final subset\"\n",
    "    !ncks -v {final_varnames} {save_dir}/{fn_extr} {save_dir}/{fn_temp}\n",
    "    !mv {save_dir}/{fn_temp} {save_dir}/{fn_extr}\n",
    "    \n",
    "    print \"   Renaming final file\"\n",
    "    !mv {save_dir}/{fn_extr} {save_dir}/{fn_final}\n",
    "\n",
    "    print \"   ... done.\"\n",
    "\n",
    "    ## Some basic cleanup\n",
    "    !rm -f {save_dir}/*.tmp\n",
    "\n",
    "print \"done with all cases\\n\""
   ]
  },
  {
   "cell_type": "code",
   "execution_count": 7,
   "metadata": {
    "collapsed": false
   },
   "outputs": [
    {
     "data": {
      "text/plain": [
       "'test.aerosols.nc'"
      ]
     },
     "execution_count": 7,
     "metadata": {},
     "output_type": "execute_result"
    }
   ],
   "source": [
    "fn_final % 'test'"
   ]
  },
  {
   "cell_type": "code",
   "execution_count": null,
   "metadata": {
    "collapsed": true
   },
   "outputs": [],
   "source": []
  }
 ],
 "metadata": {
  "kernelspec": {
   "display_name": "Python 3",
   "language": "python",
   "name": "python3"
  },
  "language_info": {
   "codemirror_mode": {
    "name": "ipython",
    "version": 3
   },
   "file_extension": ".py",
   "mimetype": "text/x-python",
   "name": "python",
   "nbconvert_exporter": "python",
   "pygments_lexer": "ipython3",
   "version": "3.4.3"
  }
 },
 "nbformat": 4,
 "nbformat_minor": 0
}
