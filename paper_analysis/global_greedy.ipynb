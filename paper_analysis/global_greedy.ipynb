{
 "cells": [
  {
   "cell_type": "code",
   "execution_count": 1,
   "metadata": {
    "collapsed": true,
    "run_control": {
     "frozen": false,
     "read_only": false
    }
   },
   "outputs": [],
   "source": [
    "%load_ext autoreload\n",
    "%autoreload 2"
   ]
  },
  {
   "cell_type": "markdown",
   "metadata": {},
   "source": [
    "# Global Greedy Activation\n",
    "\n",
    "This notebook analyzes the results of the iterative, global greedy activation sample calculations, which are saved separately as a set of `*.csv` files. Here, we read them in and do some basic analyses in support of the assertions made in the paper."
   ]
  },
  {
   "cell_type": "code",
   "execution_count": 2,
   "metadata": {
    "collapsed": false,
    "run_control": {
     "frozen": false,
     "read_only": false
    }
   },
   "outputs": [
    {
     "name": "stderr",
     "output_type": "stream",
     "text": [
      "/Users/daniel/anaconda/lib/python3.4/site-packages/matplotlib/__init__.py:872: UserWarning: axes.color_cycle is deprecated and replaced with axes.prop_cycle; please use the latter.\n",
      "  warnings.warn(self.msg_depr % (key, alt_key))\n"
     ]
    }
   ],
   "source": [
    "import glob, os\n",
    "\n",
    "%matplotlib inline\n",
    "import matplotlib.pyplot as plt\n",
    "import seaborn as sns\n",
    "sns.set(style='ticks', context='talk')\n",
    "\n",
    "import numpy as np\n",
    "import pandas as pd\n",
    "\n",
    "from util import mode_colors, colortext_legend"
   ]
  },
  {
   "cell_type": "markdown",
   "metadata": {},
   "source": [
    "Load in the datasets."
   ]
  },
  {
   "cell_type": "code",
   "execution_count": 3,
   "metadata": {
    "collapsed": false,
    "run_control": {
     "frozen": false,
     "read_only": false
    }
   },
   "outputs": [
    {
     "name": "stdout",
     "output_type": "stream",
     "text": [
      "../global_greedy_activation/arg_comp_ensemble/single_timestep_ti_0000.csv\n",
      "../global_greedy_activation/arg_comp_ensemble/single_timestep_ti_0001.csv\n",
      "../global_greedy_activation/arg_comp_ensemble/single_timestep_ti_0002.csv\n",
      "../global_greedy_activation/arg_comp_ensemble/single_timestep_ti_0003.csv\n",
      "../global_greedy_activation/arg_comp_ensemble/single_timestep_ti_0004.csv\n",
      "../global_greedy_activation/arg_comp_ensemble/single_timestep_ti_0005.csv\n",
      "../global_greedy_activation/arg_comp_ensemble/single_timestep_ti_0006.csv\n",
      "../global_greedy_activation/arg_comp_ensemble/single_timestep_ti_0007.csv\n",
      "../global_greedy_activation/arg_comp_ensemble/single_timestep_ti_0008.csv\n",
      "../global_greedy_activation/arg_comp_ensemble/single_timestep_ti_0009.csv\n",
      "59560\n"
     ]
    }
   ],
   "source": [
    "DATA_DIR = \"../global_greedy_activation/arg_comp_ensemble/\"\n",
    "csvs = glob.glob(os.path.join(DATA_DIR, \"single_timestep*.csv\"))\n",
    "\n",
    "all_dfs = []\n",
    "for csv in csvs:\n",
    "    print(csv)\n",
    "    df = pd.read_csv(csv, index_col=0)\n",
    "    all_dfs.append(df)\n",
    "mode_results = pd.concat(all_dfs, ignore_index=True)\n",
    "print(len(mode_results))"
   ]
  },
  {
   "cell_type": "markdown",
   "metadata": {},
   "source": [
    "In the original activation calculations, I didn't compute the equilibrium activation for the *entire* aerosol population - that is, applying $S_\\text{max}$ to diagnose the total aerosol number activated - so I had to go back and re-calculate this. We can directly concatenate these columns onto the sample dataset."
   ]
  },
  {
   "cell_type": "code",
   "execution_count": 4,
   "metadata": {
    "collapsed": false,
    "run_control": {
     "frozen": false,
     "read_only": false
    }
   },
   "outputs": [],
   "source": [
    "nact_df = pd.read_csv(os.path.join(DATA_DIR, 'iter_nact.csv'), index_col=0)\n",
    "mode_results = pd.concat([mode_results, nact_df], axis=1)"
   ]
  },
  {
   "cell_type": "markdown",
   "metadata": {},
   "source": [
    "## Iteration Fractions\n",
    "\n",
    "In these first sets of quick calculations, we assess the frequency of each mode occuring as the \"dominant\" one, and then extend to subsequent iterations.\n",
    "\n",
    "### Iteration 1"
   ]
  },
  {
   "cell_type": "code",
   "execution_count": 5,
   "metadata": {
    "collapsed": false,
    "run_control": {
     "frozen": false,
     "read_only": false
    }
   },
   "outputs": [
    {
     "name": "stdout",
     "output_type": "stream",
     "text": [
      "MODE_01\n",
      "ACC      96.495970\n",
      "DST01     0.142713\n",
      "MBS       1.145064\n",
      "MOS       2.216253\n",
      "dtype: float64\n"
     ]
    }
   ],
   "source": [
    "i1_groups = mode_results.groupby('MODE_01')\n",
    "i1_pct = 100.*(i1_groups.size()/len(mode_results))\n",
    "print(i1_pct)"
   ]
  },
  {
   "cell_type": "markdown",
   "metadata": {},
   "source": [
    "### Iteration 2"
   ]
  },
  {
   "cell_type": "code",
   "execution_count": 6,
   "metadata": {
    "collapsed": false,
    "run_control": {
     "frozen": false,
     "read_only": false
    }
   },
   "outputs": [
    {
     "name": "stdout",
     "output_type": "stream",
     "text": [
      "Pct in second iter\n",
      " MODE_01  MODE_02\n",
      "ACC      DST01       0.742958\n",
      "         MBS        10.321368\n",
      "         MOS        36.164808\n",
      "         SSLT01     52.770866\n",
      "DST01    ACC        32.941176\n",
      "         DST02      44.705882\n",
      "         MOS        22.352941\n",
      "MBS      ACC        36.070381\n",
      "         DST01       0.586510\n",
      "         MOS        63.343109\n",
      "MOS      ACC        45.681818\n",
      "         DST01       1.590909\n",
      "         MBS        52.727273\n",
      "dtype: float64\n",
      "\n",
      "\n",
      "\n",
      "Pct overall\n",
      " MODE_01  MODE_02\n",
      "ACC      DST01       0.716924\n",
      "         MBS         9.959704\n",
      "         MOS        34.897582\n",
      "         SSLT01     50.921760\n",
      "DST01    ACC         0.047011\n",
      "         DST02       0.063801\n",
      "         MOS         0.031901\n",
      "MBS      ACC         0.413029\n",
      "         DST01       0.006716\n",
      "         MOS         0.725319\n",
      "MOS      ACC         1.012424\n",
      "         DST01       0.035259\n",
      "         MBS         1.168570\n",
      "dtype: float64\n"
     ]
    }
   ],
   "source": [
    "i2_groups = mode_results.groupby(['MODE_01', 'MODE_02'])\n",
    "i2_n = i2_groups.size()\n",
    "i2_pct = i2_n.groupby(level=0).apply(lambda g: 100.*g/g.sum())\n",
    "print(\"Pct in second iter\\n\", i2_pct)\n",
    "print(\"\\n\\n\")\n",
    "print(\"Pct overall\\n\", 100.*i2_n/len(mode_results))"
   ]
  },
  {
   "cell_type": "markdown",
   "metadata": {},
   "source": [
    "## Hierarchical (full-leaf) Dataset Construction"
   ]
  },
  {
   "cell_type": "code",
   "execution_count": 7,
   "metadata": {
    "collapsed": false,
    "run_control": {
     "frozen": false,
     "read_only": false
    }
   },
   "outputs": [
    {
     "name": "stdout",
     "output_type": "stream",
     "text": [
      "                         count        pct\n",
      "MODE_01 MODE_02 MODE_03                  \n",
      "ACC     MBS     MOS       5782   9.707858\n",
      "                DST01       26   0.043653\n",
      "                SSLT01     124   0.208193\n",
      "        MOS     MBS      15376  25.815984\n",
      "                DST01      149   0.250168\n",
      "                SSLT01    5260   8.831430\n",
      "        DST01   MBS         88   0.147750\n",
      "                MOS        149   0.250168\n",
      "                DST02      187   0.313969\n",
      "                SSLT01       3   0.005037\n",
      "        SSLT01  MBS        776   1.302888\n",
      "                MOS      29360  49.294829\n",
      "                DST01        6   0.010074\n",
      "                SSLT03     187   0.313969\n",
      "MBS     ACC     MOS        235   0.394560\n",
      "                DST01       11   0.018469\n",
      "        MOS     ACC        428   0.718603\n",
      "                DST01        4   0.006716\n",
      "        DST01   ACC          3   0.005037\n",
      "                MOS          1   0.001679\n",
      "MOS     ACC     MBS        589   0.988919\n",
      "                DST01        8   0.013432\n",
      "                SSLT01       6   0.010074\n",
      "        MBS     ACC        690   1.158496\n",
      "                DST01        6   0.010074\n",
      "        DST01   ACC          5   0.008395\n",
      "                MBS         16   0.026864\n",
      "DST01   ACC     MOS          2   0.003358\n",
      "                DST02       26   0.043653\n",
      "        MOS     ACC          3   0.005037\n",
      "                DST02       16   0.026864\n",
      "        DST02   ACC         27   0.045332\n",
      "                MOS         11   0.018469\n"
     ]
    }
   ],
   "source": [
    "from itertools import permutations\n",
    "mode_names = ['AIT', 'ACC', 'MBS', 'MOS', 'DST01', 'DST02', 'DST03', 'DST04', \n",
    "              'SSLT01', 'SSLT02', 'SSLT03', 'SSLT04']\n",
    "multi_labels = list(permutations(mode_names, 3))\n",
    "\n",
    "full_index = pd.MultiIndex.from_tuples(multi_labels, \n",
    "                                       names=['MODE_01', 'MODE_02', 'MODE_03'])\n",
    "data = mode_results.groupby(['MODE_01', 'MODE_02', 'MODE_03']).size()\n",
    "data_pct = 100.*data/(np.sum(data))\n",
    "\n",
    "data = pd.DataFrame({'pct': data_pct, 'count': data})\n",
    "data_full = data.reindex(full_index, fill_value=0, copy=True)\n",
    "mask = data_full['pct'] > 0.\n",
    "\n",
    "print(data_full[mask])"
   ]
  },
  {
   "cell_type": "markdown",
   "metadata": {},
   "source": [
    "What mode combinations add up to the most frequent dominating combinations?"
   ]
  },
  {
   "cell_type": "code",
   "execution_count": 8,
   "metadata": {
    "collapsed": false,
    "run_control": {
     "frozen": false,
     "read_only": false
    }
   },
   "outputs": [
    {
     "name": "stdout",
     "output_type": "stream",
     "text": [
      "                         count        pct     cum_pct\n",
      "MODE_01 MODE_02 MODE_03                              \n",
      "ACC     SSLT01  MOS      29360  49.294829   49.294829\n",
      "        MOS     MBS      15376  25.815984   75.110813\n",
      "        MBS     MOS       5782   9.707858   84.818670\n",
      "        MOS     SSLT01    5260   8.831430   93.650101\n",
      "        SSLT01  MBS        776   1.302888   94.952989\n",
      "MOS     MBS     ACC        690   1.158496   96.111484\n",
      "        ACC     MBS        589   0.988919   97.100403\n",
      "MBS     MOS     ACC        428   0.718603   97.819006\n",
      "        ACC     MOS        235   0.394560   98.213566\n",
      "ACC     DST01   DST02      187   0.313969   98.527535\n",
      "        SSLT01  SSLT03     187   0.313969   98.841504\n",
      "        MOS     DST01      149   0.250168   99.091672\n",
      "        DST01   MOS        149   0.250168   99.341840\n",
      "        MBS     SSLT01     124   0.208193   99.550034\n",
      "        DST01   MBS         88   0.147750   99.697784\n",
      "DST01   DST02   ACC         27   0.045332   99.743116\n",
      "ACC     MBS     DST01       26   0.043653   99.786770\n",
      "DST01   ACC     DST02       26   0.043653   99.830423\n",
      "        MOS     DST02       16   0.026864   99.857287\n",
      "MOS     DST01   MBS         16   0.026864   99.884150\n",
      "DST01   DST02   MOS         11   0.018469   99.902619\n",
      "MBS     ACC     DST01       11   0.018469   99.921088\n",
      "MOS     ACC     DST01        8   0.013432   99.934520\n",
      "        MBS     DST01        6   0.010074   99.944594\n",
      "ACC     SSLT01  DST01        6   0.010074   99.954668\n",
      "MOS     ACC     SSLT01       6   0.010074   99.964741\n",
      "        DST01   ACC          5   0.008395   99.973136\n",
      "MBS     MOS     DST01        4   0.006716   99.979852\n",
      "ACC     DST01   SSLT01       3   0.005037   99.984889\n",
      "DST01   MOS     ACC          3   0.005037   99.989926\n",
      "MBS     DST01   ACC          3   0.005037   99.994963\n",
      "DST01   ACC     MOS          2   0.003358   99.998321\n",
      "MBS     DST01   MOS          1   0.001679  100.000000\n"
     ]
    },
    {
     "name": "stderr",
     "output_type": "stream",
     "text": [
      "/Users/daniel/anaconda/lib/python3.4/site-packages/ipykernel/__main__.py:3: FutureWarning: sort(columns=....) is deprecated, use sort_values(by=.....)\n",
      "  app.launch_new_instance()\n"
     ]
    }
   ],
   "source": [
    "mode3_sorted = (\n",
    "    data_full[mask]\n",
    "    .sort('pct', ascending=False)\n",
    "    .assign(cum_pct=lambda x: x['pct'].cumsum())\n",
    ")\n",
    "print(mode3_sorted)"
   ]
  },
  {
   "cell_type": "markdown",
   "metadata": {},
   "source": [
    "## Relative Error Plots\n",
    "\n",
    "Using the case where \"all\" the modes participate in activation, we can analyze how the relative error decreases on subsequent iterations of the greedy calculations and converges to the benchmark calculation.\n",
    "\n",
    "First, we have to calculate relative errors aggregated by each iteration. We have three diagnostics computed at each iteration:\n",
    "\n",
    "- **SMAX** - the supersaturation maximum achieved in the parcel\n",
    "- **EQ** - the number concentration activated using equilibrium-Köhler theory assumptions\n",
    "- **KN** - the \"true\", kinetically-limited number concentration activated, accounting\n",
    "  for particles which have not yet grown past their critical size"
   ]
  },
  {
   "cell_type": "code",
   "execution_count": 9,
   "metadata": {
    "collapsed": false,
    "run_control": {
     "frozen": false,
     "read_only": false
    }
   },
   "outputs": [],
   "source": [
    "niters = 3\n",
    "iter_range = range(1, niters+1)\n",
    "\n",
    "df_err = mode_results.copy(deep=True)\n",
    "for it in iter_range:\n",
    "    smax_all, eq_all, kn_all = mode_results['SMAX_all'], mode_results['EQ_all'], \\\n",
    "                               mode_results['KN_all']\n",
    "    # There's a naming bug in the script that computes the total activation,\n",
    "    # so we correct that here. This means that we *can't* use niters=4\n",
    "    n_act_all = mode_results['N_ACT_04']\n",
    "    smax_iter, eq_iter, kn_iter = mode_results['SMAX_%02d' % it], \\\n",
    "                                  mode_results['EQ_%02d' % it], \\\n",
    "                                  mode_results['KN_%02d' % it]\n",
    "    n_act_iter = mode_results['N_ACT_%02d' % it]\n",
    "    \n",
    "    df_err['smax_err_abs_%02d' % it] = smax_iter - smax_all\n",
    "    df_err['smax_err_rel_%02d' % it] = 100.*(smax_iter - smax_all)/smax_all\n",
    "    df_err['eq_err_abs_%02d' % it] = eq_iter - eq_all\n",
    "    df_err['eq_err_rel_%02d' % it] = 100.*(eq_iter - eq_all)/eq_all\n",
    "    df_err['kn_err_abs_%02d' % it] = kn_iter - kn_all\n",
    "    df_err['kn_err_rel_%02d' % it] = 100.*(kn_iter - kn_all)/kn_all\n",
    "    df_err['n_act_err_abs_%02d' % it] = n_act_iter - n_act_all\n",
    "    df_err['n_act_err_rel_%02d' % it] = 100.*(n_act_iter - n_act_all)/n_act_all\n",
    "df_err[df_err == np.inf] = np.nan\n",
    "df_err.dropna(inplace=True)"
   ]
  },
  {
   "cell_type": "code",
   "execution_count": 10,
   "metadata": {
    "collapsed": false,
    "run_control": {
     "frozen": false,
     "read_only": false
    }
   },
   "outputs": [],
   "source": [
    "tidy_df_err = df_err.copy()"
   ]
  },
  {
   "cell_type": "code",
   "execution_count": 12,
   "metadata": {
    "collapsed": false,
    "run_control": {
     "frozen": false,
     "read_only": false
    }
   },
   "outputs": [
    {
     "name": "stdout",
     "output_type": "stream",
     "text": [
      "11.2 4\n"
     ]
    },
    {
     "data": {
      "image/png": "[encoded data removed]",
      "text/plain": [
       "<matplotlib.figure.Figure at 0x1170af198>"
      ]
     },
     "metadata": {},
     "output_type": "display_data"
    }
   ],
   "source": [
    "s = 'n_act'\n",
    "c = 'rel'\n",
    "\n",
    "\n",
    "size = 4\n",
    "aspect = 1.4\n",
    "nrows, ncols = 1, 2\n",
    "width = size*aspect*ncols\n",
    "height = size*nrows\n",
    "\n",
    "print(width, height)\n",
    "fig, axs = plt.subplots(1, 2, figsize=(width, height))\n",
    "axl, axr = axs[:]\n",
    "\n",
    "colors = {mode: mode_colors[mode]\n",
    "          for mode in pd.unique(tidy_df_err['MODE_01'])}\n",
    "\n",
    "def mode_iter_plot(variable, error, ax, plot_legend=False):\n",
    "    tidy_df_err = pd.melt(df_err, \n",
    "                          id_vars=['MODE_{:02d}'.format(i) for i in range(1, niters+1)],\n",
    "                          value_vars=[variable+'_err_'+error+\"_{:02d}\".format(i) \n",
    "                                      for i in range(1, niters+1)])\n",
    "\n",
    "    sns.boxplot(x='variable', y='value', data=tidy_df_err,\n",
    "                hue='MODE_01', whis=[1., 99.], showfliers=False,\n",
    "                palette=colors, ax=ax)\n",
    "    # sns.violinplot(x='variable', y='value', data=tidy_df_err,\n",
    "    #                hue='MODE_01', scale='width', ax=ax)\n",
    "    if plot_legend:\n",
    "        leg = colortext_legend(colors, ax=ax, prop={'weight': 'bold'})\n",
    "    else:\n",
    "        ax.legend_.remove()\n",
    "    \n",
    "    ax.set_ylim(0.)\n",
    "    # ylims = ax.get_ylim()\n",
    "    # if ylims[0] < 0. < ylims[1]:\n",
    "    #     ax.hlines(0, -1, niters, linestyle='dashed')\n",
    "\n",
    "    ax.set_xlabel(\"Mode Iteration\")\n",
    "    ax.set_xticklabels(iter_range)\n",
    "    \n",
    "    sns.despine(ax=ax)\n",
    "    \n",
    "    return ax\n",
    "\n",
    "axl = mode_iter_plot('smax', 'rel', axl)\n",
    "axl.set_ylabel(\"Relative error $S_\\mathrm{max}$ (%)\")\n",
    "axr = mode_iter_plot('n_act', 'rel', axr, plot_legend=True)\n",
    "axr.set_ylabel(\"Relative error $N_\\mathrm{act}$ (%)\")\n",
    "\n",
    "plt.subplots_adjust(hspace=0.4)\n",
    "\n",
    "fig_fn = \"figs/greedy_iteration_error\"\n",
    "plt.savefig(fig_fn+\".pdf\", transparent=True, bbox_inches='tight')\n",
    "plt.savefig(fig_fn+\".png\", transparent=True, bbox_inches='tight', dpi=200)"
   ]
  },
  {
   "cell_type": "markdown",
   "metadata": {},
   "source": [
    "## Fractional N vs Iteration\n",
    "\n",
    "How does the fraction of the  total aerosol number concentration captured by the dominant modes after each iteration change?"
   ]
  },
  {
   "cell_type": "code",
   "execution_count": 175,
   "metadata": {
    "collapsed": false,
    "run_control": {
     "frozen": false,
     "read_only": false
    }
   },
   "outputs": [],
   "source": [
    "n1 = df_err.apply(lambda x: x[\"n\"+x.MODE_01], axis=1)\n",
    "n2 = df_err.apply(lambda x: x[\"n\"+x.MODE_01] + \n",
    "                            x[\"n\"+x.MODE_02], axis=1)\n",
    "n3 = df_err.apply(lambda x: x[\"n\"+x.MODE_01] + \n",
    "                            x[\"n\"+x.MODE_02] +\n",
    "                            x[\"n\"+x.MODE_03], axis=1)"
   ]
  },
  {
   "cell_type": "code",
   "execution_count": 186,
   "metadata": {
    "collapsed": false,
    "run_control": {
     "frozen": false,
     "read_only": false
    }
   },
   "outputs": [
    {
     "data": {
      "text/plain": [
       "<matplotlib.legend.Legend at 0x12111a320>"
      ]
     },
     "execution_count": 186,
     "metadata": {},
     "output_type": "execute_result"
    },
    {
     "data": {
      "image/png": "[encoded data removed]",
      "text/plain": [
       "<matplotlib.figure.Figure at 0x122c10ac8>"
      ]
     },
     "metadata": {},
     "output_type": "display_data"
    }
   ],
   "source": [
    "sns.distplot(n1 / df_err.N_TOT, label=\"1\")\n",
    "sns.distplot(n2 / df_err.N_TOT, label=\"2\")\n",
    "sns.distplot(n3 / df_err.N_TOT, label=\"3\")\n",
    "plt.legend()"
   ]
  },
  {
   "cell_type": "code",
   "execution_count": 194,
   "metadata": {
    "collapsed": false,
    "run_control": {
     "frozen": false,
     "read_only": false
    }
   },
   "outputs": [
    {
     "data": {
      "text/plain": [
       "count    59513.000000\n",
       "mean         0.895762\n",
       "std          0.131985\n",
       "min          0.077514\n",
       "25%          0.865461\n",
       "50%          0.945600\n",
       "75%          0.982138\n",
       "max          0.999901\n",
       "dtype: float64"
      ]
     },
     "execution_count": 194,
     "metadata": {},
     "output_type": "execute_result"
    }
   ],
   "source": [
    "(n3 / df_err.N_TOT).describe()"
   ]
  },
  {
   "cell_type": "markdown",
   "metadata": {},
   "source": [
    "---\n"
   ]
  },
  {
   "cell_type": "markdown",
   "metadata": {},
   "source": [
    "Decrease in absolute error in $N_\\text{act}$ for each successive mode iteration."
   ]
  },
  {
   "cell_type": "code",
   "execution_count": 206,
   "metadata": {
    "collapsed": false,
    "run_control": {
     "frozen": false,
     "read_only": false
    }
   },
   "outputs": [
    {
     "data": {
      "text/plain": [
       "<matplotlib.legend.Legend at 0x135fc8fd0>"
      ]
     },
     "execution_count": 206,
     "metadata": {},
     "output_type": "execute_result"
    },
    {
     "data": {
      "image/png": "[encoded data removed]",
      "text/plain": [
       "<matplotlib.figure.Figure at 0x12d671198>"
      ]
     },
     "metadata": {},
     "output_type": "display_data"
    }
   ],
   "source": [
    "def _log10_err(x):\n",
    "    y = x.copy()\n",
    "    y[pd.isnull(y)] == np.nan\n",
    "    y[y < 0] = np.nan\n",
    "    y.dropna(inplace=True)\n",
    "    return np.log10(y)\n",
    "\n",
    "plt.figure(figsize=(6, 2))\n",
    "sns.distplot(_log10_err(df_err.n_act_err_abs_01), label='1')\n",
    "sns.distplot(_log10_err(df_err.n_act_err_abs_02), label='2')\n",
    "sns.distplot(_log10_err(df_err.n_act_err_abs_03), label='3')\n",
    "plt.legend()\n"
   ]
  },
  {
   "cell_type": "code",
   "execution_count": 211,
   "metadata": {
    "collapsed": false,
    "run_control": {
     "frozen": false,
     "read_only": false
    }
   },
   "outputs": [
    {
     "data": {
      "text/plain": [
       "count    59513.000000\n",
       "mean         0.484768\n",
       "std          2.352538\n",
       "min         -0.006766\n",
       "25%          0.027967\n",
       "50%          0.083942\n",
       "75%          0.210393\n",
       "max         56.964574\n",
       "Name: n_act_err_abs_03, dtype: float64"
      ]
     },
     "execution_count": 211,
     "metadata": {},
     "output_type": "execute_result"
    }
   ],
   "source": [
    "df_err.n_act_err_abs_03.describe()"
   ]
  }
 ],
 "metadata": {
  "kernelspec": {
   "display_name": "Python 3",
   "language": "python",
   "name": "python3"
  },
  "language_info": {
   "codemirror_mode": {
    "name": "ipython",
    "version": 3
   },
   "file_extension": ".py",
   "mimetype": "text/x-python",
   "name": "python",
   "nbconvert_exporter": "python",
   "pygments_lexer": "ipython3",
   "version": "3.4.5"
  },
  "nav_menu": {},
  "toc": {
   "navigate_menu": true,
   "number_sections": true,
   "sideBar": true,
   "threshold": 6,
   "toc_cell": false,
   "toc_section_display": "block",
   "toc_window_display": true
  }
 },
 "nbformat": 4,
 "nbformat_minor": 0
}
